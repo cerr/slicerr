{
 "cells": [
  {
   "cell_type": "markdown",
   "id": "c3d99b20-3533-440a-94a2-9d0280c9c8a5",
   "metadata": {},
   "source": [
    "# Import DICOM from Slicer to CERRx"
   ]
  },
  {
   "cell_type": "code",
   "execution_count": 1,
   "id": "5f244ad1",
   "metadata": {},
   "outputs": [],
   "source": [
    "octavePath = r'C:\\Program Files\\GNU Octave\\Octave-6.2.0\\mingw64\\bin\\octave-cli.exe'\n",
    "cerrPath = 'C:/Users/locastre/MATLAB/CERR'"
   ]
  },
  {
   "cell_type": "code",
   "execution_count": 2,
   "id": "aea46132-4bc0-467e-9faa-be24642e8942",
   "metadata": {},
   "outputs": [
    {
     "name": "stdout",
     "output_type": "stream",
     "text": [
      "  scalar structure containing the fields:\n",
      "\n",
      "    func_name = addpath\n",
      "    func_args =\n",
      "    {\n",
      "      [1,1] = C:/Users/locastre/MATLAB/CERR\n",
      "    }\n",
      "\n",
      "    dname =\n",
      "    nout = 1\n",
      "    store_as =\n",
      "    ref_indices = [](0x0)\n",
      "Output file C:/Users/locastre/AppData/Local/Temp/tmpye2x9tjq/reader.mat\n",
      "  scalar structure containing the fields:\n",
      "\n",
      "    func_name = addToPath2\n",
      "    func_args =\n",
      "    {\n",
      "      [1,1] = C:/Users/locastre/MATLAB/CERR\n",
      "    }\n",
      "\n",
      "    dname =\n",
      "    nout = 1\n",
      "    store_as =\n",
      "    ref_indices = [](0x0)\n",
      "Adding to path ... C:\\Users\\locastre\\MATLAB\\CERR\\CERR_Data_Extraction\n",
      "Adding to path ... C:\\Users\\locastre\\MATLAB\\CERR\\CERR_core\n",
      "Adding to path ... C:\\Users\\locastre\\MATLAB\\CERR\\IMRTP\n",
      "Adding to path ... C:\\Users\\locastre\\MATLAB\\CERR\\Jupyter_Notebooks\n",
      "Adding to path ... C:\\Users\\locastre\\MATLAB\\CERR\\ML_Dicom\n",
      "Adding to path ... C:\\Users\\locastre\\MATLAB\\CERR\\Python_packages\n",
      "Adding to path ... C:\\Users\\locastre\\MATLAB\\CERR\\Unit_Testing\n",
      "Output file C:/Users/locastre/AppData/Local/Temp/tmpye2x9tjq/reader.mat\n"
     ]
    }
   ],
   "source": [
    "import os\n",
    "os.environ['OCTAVE_EXECUTABLE'] = octavePath\n",
    "from oct2py import octave\n",
    "octave.addpath(cerrPath)\n",
    "octave.addToPath2(cerrPath)"
   ]
  },
  {
   "cell_type": "markdown",
   "id": "f65740d2-2162-45f3-bff2-f36c30c2b5e3",
   "metadata": {},
   "source": [
    "#### Slicer script repository https://slicer.readthedocs.io/en/latest/developer_guide/script_repository.html "
   ]
  },
  {
   "cell_type": "code",
   "execution_count": 3,
   "id": "67ba2991-5e39-4b5e-b10b-749e4310aed8",
   "metadata": {},
   "outputs": [],
   "source": [
    "def pathFromNode(node):\n",
    "  storageNode = node.GetStorageNode()\n",
    "  if storageNode is not None: # loaded via drag-drop\n",
    "    filepath = storageNode.GetFullNameFromFileName()\n",
    "  else: # Loaded via DICOM browser\n",
    "    instanceUIDs = node.GetAttribute(\"DICOM.instanceUIDs\").split()\n",
    "    filepath = slicer.dicomDatabase.fileForInstance(instanceUIDs[0])\n",
    "  return filepath"
   ]
  },
  {
   "cell_type": "markdown",
   "id": "6deee54c-33fa-4705-95e8-ca61b26660da",
   "metadata": {},
   "source": [
    "#### Manually load DICOM series into Slicer MRML"
   ]
  },
  {
   "cell_type": "code",
   "execution_count": 6,
   "id": "cdd36eca-819f-498f-8950-e4599cb991ab",
   "metadata": {},
   "outputs": [
    {
     "name": "stdout",
     "output_type": "stream",
     "text": [
      "DICOM path=Y:/Eve/sliCERR/DICOM/1.3.6.1.4.1.14519.5.2.1.6329.6468.109218621610560682044382179111-1-93-1878ffd.dcm\n"
     ]
    }
   ],
   "source": [
    "node = slicer.mrmlScene.GetFirstNodeByClass(\"vtkMRMLScalarVolumeNode\")\n",
    "path = pathFromNode(node)\n",
    "print(\"DICOM path=%s\" % path)"
   ]
  },
  {
   "cell_type": "code",
   "execution_count": 7,
   "id": "f823ff8e-354e-4937-8986-45885c92a417",
   "metadata": {},
   "outputs": [],
   "source": [
    "dcmpath = os.path.dirname(path)"
   ]
  },
  {
   "cell_type": "code",
   "execution_count": 8,
   "id": "19317d84-ac54-40d1-baa3-08f3cf7f80a1",
   "metadata": {},
   "outputs": [
    {
     "name": "stdout",
     "output_type": "stream",
     "text": [
      "  scalar structure containing the fields:\n",
      "\n",
      "    func_name = importDICOM\n",
      "    func_args =\n",
      "    {\n",
      "      [1,1] = Y:/Eve/sliCERR/DICOM\n",
      "    }\n",
      "\n",
      "    dname =\n",
      "    nout = 1\n",
      "    store_as =\n",
      "    ref_indices = [](0x0)\n",
      "ans = 1\n",
      "Reading directory:Y:/Eve/sliCERR/DICOM ...\n",
      " Reading header ...\n",
      "CERR>>  DICOM Import has no methods defined for import into the planC{indexS.header}.sponsorID field, leaving empty.\n",
      "CERR>>  DICOM Import has no methods defined for import into the planC{indexS.header}.protocolID field, leaving empty.\n",
      "CERR>>  DICOM Import has no methods defined for import into the planC{indexS.header}.subjectID field, leaving empty.\n",
      "CERR>>  DICOM Import has no methods defined for import into the planC{indexS.header}.submissionID field, leaving empty.\n",
      "CERR>>  DICOM Import has no methods defined for import into the planC{indexS.header}.timeSaved field, leaving empty.\n",
      "CERR>>  DICOM Import has no methods defined for import into the planC{indexS.header}.lastSavedInVer field, leaving empty.\n",
      "CERR>>  DICOM Import has no methods defined for import into the planC{indexS.header}.CERRImportVersion field, leaving empty.\n",
      "CERR>>  DICOM Import has no methods defined for import into the planC{indexS.header}.anonymizedID field, leaving empty.\n",
      " Reading comment ...\n",
      " Reading scan ...\n",
      "Loading Scan ...\n",
      " Reading structures ...\n",
      "Loading RTSTRUCT ...\n",
      " Reading structureArray ...\n",
      " Reading structureArrayMore ...\n",
      " Reading beams ...\n",
      " Reading beamGeometry ...\n",
      " Reading dose ...\n",
      " Reading DVH ...\n",
      " Reading IVH ...\n",
      " Reading planParam ...\n",
      " Reading seedGeometry ...\n",
      " Reading digitalFilm ...\n",
      " Reading RTTreatment ...\n",
      " Reading IM ...\n",
      " Reading GSPS ...\n",
      " Reading deform ...\n",
      " Reading registration ...\n",
      " Reading texture ...\n",
      " Reading featureSet ...\n",
      " Reading importLog ...\n",
      " Reading segmentLabel ...\n",
      " Reading CERROptions ...\n",
      " Reading indexS ...\n",
      "Output file C:/Users/locastre/AppData/Local/Temp/tmpye2x9tjq/reader.mat\n"
     ]
    }
   ],
   "source": [
    "planC = octave.importDICOM(dcmpath)"
   ]
  }
 ],
 "metadata": {
  "kernelspec": {
   "display_name": "Slicer 4.11",
   "language": "python",
   "name": "slicer-4.11"
  },
  "language_info": {
   "file_extension": ".py",
   "mimetype": "text/x-python",
   "name": "python",
   "version": "3.6.7"
  }
 },
 "nbformat": 4,
 "nbformat_minor": 5
}
