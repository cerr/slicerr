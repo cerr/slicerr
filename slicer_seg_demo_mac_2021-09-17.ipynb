{
 "cells": [
  {
   "cell_type": "markdown",
   "id": "7924508e",
   "metadata": {},
   "source": [
    "# CERR I/O in Slicer "
   ]
  },
  {
   "cell_type": "markdown",
   "id": "d3791926",
   "metadata": {},
   "source": [
    "### Pull imaging data from Slicer viewer and import to CERR for analysis"
   ]
  },
  {
   "cell_type": "markdown",
   "id": "320cec44",
   "metadata": {},
   "source": [
    "Setup and module load for Octave oct2py interface"
   ]
  },
  {
   "cell_type": "code",
   "execution_count": null,
   "id": "66529036",
   "metadata": {
    "tags": []
   },
   "outputs": [],
   "source": [
    "import os\n",
    "import numpy as np"
   ]
  },
  {
   "cell_type": "code",
   "execution_count": null,
   "id": "b06ee212",
   "metadata": {},
   "outputs": [],
   "source": [
    "import JupyterNotebooksLib as slicernb"
   ]
  },
  {
   "cell_type": "code",
   "execution_count": null,
   "id": "dbf817d0",
   "metadata": {},
   "outputs": [],
   "source": [
    "octave_cli_path = '/usr/local/bin/octave-cli'\n",
    "os.environ['OCTAVE_EXECUTABLE'] = octave_cli_path"
   ]
  },
  {
   "cell_type": "code",
   "execution_count": null,
   "id": "24abca4c",
   "metadata": {},
   "outputs": [],
   "source": [
    "from oct2py import octave\n",
    "from oct2py import Struct"
   ]
  },
  {
   "cell_type": "code",
   "execution_count": null,
   "id": "4b87ce71-abeb-40e0-ab57-db9fae977ad4",
   "metadata": {},
   "outputs": [],
   "source": [
    "%load_ext oct2py.ipython"
   ]
  },
  {
   "cell_type": "code",
   "execution_count": null,
   "id": "33b52989",
   "metadata": {},
   "outputs": [],
   "source": [
    "#import octave add-on packages\n",
    "octave.eval('pkg load image')\n",
    "octave.eval('pkg load io')\n",
    "octave.eval('pkg load statistics')\n",
    "octave.eval('pkg load pythonic')"
   ]
  },
  {
   "cell_type": "code",
   "execution_count": null,
   "id": "b23a53b8-7e69-45cf-a0aa-0d99d0f19a66",
   "metadata": {},
   "outputs": [],
   "source": [
    "octave.warning('off','all');"
   ]
  },
  {
   "cell_type": "code",
   "execution_count": null,
   "id": "d79a49f0",
   "metadata": {},
   "outputs": [],
   "source": [
    "javaPath = r'/Library/Java/JavaVirtualMachines/jdk-16.0.2.jdk/Contents/Home/lib/server'\n",
    "octave.setenv('JAVA_HOME',javaPath)"
   ]
  },
  {
   "cell_type": "code",
   "execution_count": null,
   "id": "c0bc0873-7e9b-4784-9efe-226987665528",
   "metadata": {},
   "outputs": [],
   "source": [
    "cerrPath = r'/Users/elocastro/Dev/CERR'\n",
    "\n",
    "octave.push('cerrPath',cerrPath)\n",
    "\n",
    "octave.eval('addpath(cerrPath)')\n",
    "\n",
    "octave.eval('addToPath2(cerrPath)')"
   ]
  },
  {
   "cell_type": "code",
   "execution_count": null,
   "id": "01d3c63a-8c17-4518-a685-322c28845011",
   "metadata": {},
   "outputs": [],
   "source": [
    "planCFileName = r'/Users/elocastro/Dev/sliCERR/data/0617-580557_09-09-2000-11778.mat';\n",
    "octave.push('planCFileName',planCFileName)"
   ]
  },
  {
   "cell_type": "code",
   "execution_count": null,
   "id": "b1892087-a4e4-44c3-b1d6-9f64bee101f6",
   "metadata": {},
   "outputs": [],
   "source": [
    "octave.eval('planC = loadPlanC(planCFileName);')"
   ]
  },
  {
   "cell_type": "code",
   "execution_count": null,
   "id": "79105849",
   "metadata": {
    "scrolled": true
   },
   "outputs": [],
   "source": [
    "octave.eval('indexS = planC{end};')"
   ]
  },
  {
   "cell_type": "markdown",
   "id": "2f3254d8",
   "metadata": {},
   "source": [
    "## Import scans to Slicer from CERR"
   ]
  },
  {
   "cell_type": "code",
   "execution_count": null,
   "id": "f746b03c-f159-4d0b-91fb-e6c9ea4f32df",
   "metadata": {},
   "outputs": [],
   "source": [
    "octave.eval('scanCount = numel(planC{indexS.scan});')\n",
    "octave.eval('structCount = numel(planC{indexS.structures});')\n",
    "octave.eval('doseCount = numel(planC{indexS.dose});')\n",
    "\n",
    "countList = octave.pull(['scanCount','structCount','doseCount'])\n",
    "\n",
    "#scanCount = octave.pull('scanCount')\n",
    "#structCount = octave.pull('structCount')\n",
    "#doseCount = octave.pull('doseCount')"
   ]
  },
  {
   "cell_type": "code",
   "execution_count": null,
   "id": "9222703e-9cad-4462-919c-6eed44ce5a19",
   "metadata": {},
   "outputs": [],
   "source": [
    "scanCount   = countList[0]\n",
    "structCount = countList[1]\n",
    "doseCount   = countList[2]"
   ]
  },
  {
   "cell_type": "code",
   "execution_count": null,
   "id": "9eafd144-58bf-4e2d-bb29-ad0978fa2c9e",
   "metadata": {},
   "outputs": [],
   "source": [
    "if structCount != 0:\n",
    "    importStruct = True\n",
    "else:\n",
    "    importStruct = False\n",
    "\n",
    "if doseCount != 0:\n",
    "    importDose = True\n",
    "else:\n",
    "    importDose = False"
   ]
  },
  {
   "cell_type": "code",
   "execution_count": null,
   "id": "0214c1c0-d0d6-4d5c-ad3e-629026526bda",
   "metadata": {
    "tags": []
   },
   "outputs": [],
   "source": [
    "scanList = []\n",
    "structList = []\n",
    "doseList = []"
   ]
  },
  {
   "cell_type": "code",
   "execution_count": null,
   "id": "3cf65b1b",
   "metadata": {},
   "outputs": [],
   "source": [
    "if scanCount != 0:\n",
    "    for i in range(int(scanCount)):\n",
    "        print('Importing scan' + str(i+1))\n",
    "        octave.push('i',i+1)\n",
    "        octave.eval('scanType = planC{indexS.scan}(i).scanType;')\n",
    "        scanType = octave.pull('scanType')\n",
    "        octave.eval('structC = {};')\n",
    "        octave.eval('doseNumV = [];')\n",
    "        if importStruct:\n",
    "            print('Import struct option found')\n",
    "            structNodeName = scanType + '_struct'\n",
    "            structureNode = slicer.mrmlScene.AddNewNodeByClass(\"vtkMRMLSegmentationNode\", structNodeName)            \n",
    "            for j in range(int(structCount)):\n",
    "                octave.push('j',j+1)\n",
    "                octave.eval('if planC{indexS.structures}(j).associatedScan == i; structC{end+1} = planC{indexS.structures}(j).structureName; end')\n",
    "            octave.eval('assocStructCount = numel(structC);')\n",
    "        if importDose:\n",
    "            for k in range(int(doseCount)):\n",
    "                octave.push('k',k+1)\n",
    "                #octave.eval('if planC{indexS.dose}(k).associatedScan == i; doseNumV(end+1) = k; end')\n",
    "                octave.eval('doseNumV = 1:k')\n",
    "            octave.eval('disp(doseNumV);')\n",
    "        octave.eval('[affineMat,scan3M_RAS,voxel_size,mask3MC, dose3MC] = getPlanCAffineMat(planC, i, 1, structC, doseNumV);')\n",
    "        octave.eval(\"qOffset = affineMat(1:3,end)';\")\n",
    "        octave.eval('scaleMat = eye(3); scaleMat(1,1) = 1/voxel_size(1); scaleMat(2,2) = 1/voxel_size(2); scaleMat(3,3) = 1/voxel_size(3);ijkMat = scaleMat * affineMat(1:3,1:3);')\n",
    "        affineMat, ijkMat, qOffset, scan3M_RAS, voxel_size = octave.pull(['affineMat','ijkMat','qOffset','scan3M_RAS','voxel_size'])\n",
    "        if scanType == '':\n",
    "            scanType = 'planC_scan_' + str(i+1)\n",
    "        slicer.mrmlScene.AddNewNodeByClass(\"vtkMRMLScalarVolumeNode\", scanType)\n",
    "        scanList.append(slicer.util.getNode(scanType))\n",
    "        #volumeNode = slicer.util.getNode(scanType)\n",
    "        scanList[-1].SetOrigin(qOffset[0])\n",
    "        #volumeNode.SetOrigin(qOffset[0])\n",
    "        scanList[-1].SetSpacing(voxel_size[0])\n",
    "        #volumeNode.SetSpacing(voxel_size[0])\n",
    "        scanList[-1].SetIJKToRASDirections(ijkMat)\n",
    "        #volumeNode.SetIJKToRASDirections(ijkMat)\n",
    "        slicer.util.updateVolumeFromArray(scanList[-1], np.swapaxes(scan3M_RAS,2,0))\n",
    "        slicer.util.setSliceViewerLayers(background=scanList[-1])\n",
    "        if importDose:\n",
    "            print('importing dose')\n",
    "            octave.eval('dose3M = dose3MC{1};')\n",
    "            dose3M = octave.pull('dose3M')\n",
    "            slicer.mrmlScene.AddNewNodeByClass(\"vtkMRMLScalarVolumeNode\", 'dose')\n",
    "            doseNode = slicer.util.getNode('dose')\n",
    "            doseNode.SetOrigin(qOffset[0])\n",
    "            doseNode.SetSpacing(voxel_size[0])\n",
    "            doseNode.SetIJKToRASDirections(ijkMat)\n",
    "            slicer.util.updateVolumeFromArray(doseNode,np.swapaxes(dose3M,2,0))\n",
    "            slicer.util.setSliceViewerLayers(foreground=doseNode)\n",
    "            slicer.util.setSliceViewerLayers(foregroundOpacity=0.4)\n",
    "        if importStruct:\n",
    "            structureNode.SetReferenceImageGeometryParameterFromVolumeNode(scanList[-1])\n",
    "            for j in range(int(structCount)):\n",
    "                octave.push('j',j+1)\n",
    "                octave.eval('structName = structC{j}; mask3M = mask3MC{j};')\n",
    "                structName, mask3M = octave.pull(['structName','mask3M'])\n",
    "                print('Importing structure #' + str(j+1) + ', ' + structName)\n",
    "                slicer.util.addVolumeFromArray(np.swapaxes(mask3M,2,0)*(j+1), ijkToRAS=affineMat, name=structName, nodeClassName=\"vtkMRMLLabelMapVolumeNode\")\n",
    "                lmap = slicer.util.getNode(structName)\n",
    "                slicer.modules.segmentations.logic().ImportLabelmapToSegmentationNode(lmap, structureNode)\n",
    "                slicer.mrmlScene.RemoveNode(lmap)\n",
    "                segId = structureNode.GetSegmentation().GetNthSegment(j)\n",
    "                segId.SetName(structName)\n",
    "                \n",
    "                #slicer.util.ImportLabelmapToSegmentationNode(\n",
    "                #slicer.util.updateSegmentBinaryLabelmapFromArray(mask3M,structureNode,structName,scanList[-1])\n",
    "            \n",
    "\n",
    "                "
   ]
  },
  {
   "cell_type": "markdown",
   "id": "87643492-0371-4530-a788-d75fa757dc82",
   "metadata": {},
   "source": [
    "Set viewer with CT base & dose overlay"
   ]
  },
  {
   "cell_type": "code",
   "execution_count": null,
   "id": "0d1965ff-d549-42b1-9c59-f39ba5561a43",
   "metadata": {},
   "outputs": [],
   "source": [
    "for color in ['Red', 'Yellow', 'Green']:\n",
    "    slicer.app.layoutManager().sliceWidget(color).sliceLogic().GetSliceCompositeNode().SetForegroundVolumeID(doseNode.GetID())\n",
    "    slicer.app.layoutManager().sliceWidget(color).sliceLogic().GetSliceCompositeNode().SetBackgroundVolumeID(scanList[-1].GetID())"
   ]
  },
  {
   "cell_type": "markdown",
   "id": "6a979617",
   "metadata": {},
   "source": [
    "## Pull scan from mrml to CERR"
   ]
  },
  {
   "cell_type": "markdown",
   "id": "0b9aec28",
   "metadata": {},
   "source": [
    "Pull imaging data from the Slicer MRML scene and import to CERR"
   ]
  },
  {
   "cell_type": "code",
   "execution_count": null,
   "id": "1e63ab83",
   "metadata": {},
   "outputs": [],
   "source": [
    "#Get preloaded DICOM volume node from MRML scene\n",
    "volumeNode = scanList[0]"
   ]
  },
  {
   "cell_type": "code",
   "execution_count": null,
   "id": "1307636b",
   "metadata": {},
   "outputs": [],
   "source": [
    "#Get 3x3 voxel matrix from volume node\n",
    "imgVolume = np.copy(slicer.util.arrayFromVolume(volumeNode))\n",
    "\n",
    "#Origin, image spacing\n",
    "imgOrigin = volumeNode.GetOrigin()\n",
    "imgSpacing = volumeNode.GetSpacing()\n",
    "\n",
    "#Get affine matrix with direction cosines, pixdim, origin\n",
    "imgMatrixVtk = vtk.vtkMatrix4x4()\n",
    "volumeNode.GetIJKToRASMatrix(imgMatrixVtk)\n",
    "\n",
    "imgMatrix = np.eye(4)\n",
    "imgMatrixVtk.DeepCopy(imgMatrix.ravel(),imgMatrixVtk)\n",
    "\n",
    "imgData = volumeNode.GetImageData()\n",
    "dtype = imgData.GetScalarSize()"
   ]
  },
  {
   "cell_type": "code",
   "execution_count": null,
   "id": "829b2804",
   "metadata": {},
   "outputs": [],
   "source": [
    "octave.push('scanName',volumeNode.GetName())\n",
    "octave.push('qOffset',np.array(imgOrigin))\n",
    "octave.push('pixDim',np.array(imgSpacing))\n",
    "octave.push('imgVolume',imgVolume)"
   ]
  },
  {
   "cell_type": "code",
   "execution_count": null,
   "id": "76be13d0-4ea5-4376-90a1-6184c5357832",
   "metadata": {},
   "outputs": [],
   "source": [
    "slicer.util.saveNode(volumeNode,os.path.join(os.getcwd(),scanType.replace(' ','_') + '.nii'))"
   ]
  },
  {
   "cell_type": "code",
   "execution_count": null,
   "id": "afe99cc4-4cde-44c9-9287-8b70670e818b",
   "metadata": {},
   "outputs": [],
   "source": [
    "octave.eval('nii2cerr(\"' + scanType.replace(' ','_') + '.nii\");')"
   ]
  },
  {
   "cell_type": "markdown",
   "id": "922dd8b7-10ff-4f2f-a2b5-49a0cb893cf5",
   "metadata": {},
   "source": [
    "## Run texture mapping"
   ]
  },
  {
   "cell_type": "code",
   "execution_count": null,
   "id": "b4327bfb-942e-442a-8980-da2abf0724f7",
   "metadata": {},
   "outputs": [],
   "source": [
    "octave.eval('indexS = planC{end};')"
   ]
  },
  {
   "cell_type": "code",
   "execution_count": null,
   "id": "7cb696b4-06d5-4d26-be39-2b1e14ff2c3a",
   "metadata": {},
   "outputs": [],
   "source": [
    "scanNum = 1;\n",
    "structNum = 4; #GTV\n",
    "octave.push('scanNum',scanNum)\n",
    "octave.push('structNum',structNum)"
   ]
  },
  {
   "cell_type": "code",
   "execution_count": null,
   "id": "59e6d82c-5ba6-48ad-9f9b-f73d93bf2f5e",
   "metadata": {},
   "outputs": [],
   "source": [
    "octave.eval(\"paramS = [];\")"
   ]
  },
  {
   "cell_type": "code",
   "execution_count": null,
   "id": "4af26db7-7124-4997-aca1-ae61c2fc1c08",
   "metadata": {},
   "outputs": [],
   "source": [
    "octave.eval(\"fType = 'HaralickCooccurance';\")\n",
    "octave.eval(\"paramS.NumLevels.val = 64;\")\n",
    "octave.eval(\"paramS.PatchSize.val = [2 2 0];\")\n",
    "octave.eval(\"paramS.Directionality.val = 2;\")\n",
    "octave.eval(\"paramS.Type.val = 'All';\")\n",
    "octave.eval(\"label = 'textureMap2';\")"
   ]
  },
  {
   "cell_type": "code",
   "execution_count": null,
   "id": "e7434d72-d92d-477b-96e8-7e5d7a9a106e",
   "metadata": {},
   "outputs": [],
   "source": [
    "octave.eval(\"planC = createTextureMaps(scanNum,structNum,fType,paramS,label,planC);\")"
   ]
  },
  {
   "cell_type": "code",
   "execution_count": null,
   "id": "46224a23-e118-4d75-8047-d82e95ebb028",
   "metadata": {},
   "outputs": [],
   "source": [
    "octave.eval('planC{indexS.texture}')"
   ]
  },
  {
   "cell_type": "code",
   "execution_count": null,
   "id": "10484d6f-dc4f-437b-aa9e-6e835f91a296",
   "metadata": {},
   "outputs": [],
   "source": [
    "octave.eval('scanCount = numel(planC{indexS.scan});')\n",
    "\n",
    "scanCount = octave.pull('scanCount')\n",
    "print(scanCount)"
   ]
  },
  {
   "cell_type": "markdown",
   "id": "475886a6-7213-4fe6-83c4-876095b1d805",
   "metadata": {},
   "source": [
    "### Update viewer"
   ]
  },
  {
   "cell_type": "code",
   "execution_count": null,
   "id": "490e4a31-3a5e-430b-9c52-3d05e2f0645d",
   "metadata": {},
   "outputs": [],
   "source": [
    "if scanCount != 0:\n",
    "    for i in range(int(scanCount)):\n",
    "        print('Importing scan' + str(i+1))\n",
    "        octave.push('i',i+1)\n",
    "        octave.eval('scanType = planC{indexS.scan}(i).scanType;')\n",
    "        scanType = octave.pull('scanType')\n",
    "        octave.eval('structC = {};')\n",
    "        octave.eval('doseNumV = [];')\n",
    "        if importStruct:\n",
    "            print('Import struct option found')\n",
    "            structNodeName = scanType + '_struct'\n",
    "            structureNode = slicer.mrmlScene.AddNewNodeByClass(\"vtkMRMLSegmentationNode\", structNodeName)            \n",
    "            for j in range(int(structCount)):\n",
    "                octave.push('j',j+1)\n",
    "                octave.eval('if planC{indexS.structures}(j).associatedScan == i; structC{end+1} = planC{indexS.structures}(j).structureName; end')\n",
    "            octave.eval('assocStructCount = numel(structC);')\n",
    "        if importDose:\n",
    "            for k in range(int(doseCount)):\n",
    "                octave.push('k',k+1)\n",
    "                #octave.eval('if planC{indexS.dose}(k).associatedScan == i; doseNumV(end+1) = k; end')\n",
    "                octave.eval('doseNumV = 1:k')\n",
    "            octave.eval('disp(doseNumV);')\n",
    "        octave.eval('[affineMat,scan3M_RAS,voxel_size,mask3MC, dose3MC] = getPlanCAffineMat(planC, i, 1, structC, doseNumV);')\n",
    "        octave.eval(\"qOffset = affineMat(1:3,end)';\")\n",
    "        octave.eval('scaleMat = eye(3); scaleMat(1,1) = 1/voxel_size(1); scaleMat(2,2) = 1/voxel_size(2); scaleMat(3,3) = 1/voxel_size(3);ijkMat = scaleMat * affineMat(1:3,1:3);')\n",
    "        affineMat, ijkMat, qOffset, scan3M_RAS, voxel_size = octave.pull(['affineMat','ijkMat','qOffset','scan3M_RAS','voxel_size'])\n",
    "        if scanType == '':\n",
    "            scanType = 'planC_scan_' + str(i+1)\n",
    "        slicer.mrmlScene.AddNewNodeByClass(\"vtkMRMLScalarVolumeNode\", scanType)\n",
    "        scanList.append(slicer.util.getNode(scanType))\n",
    "        #volumeNode = slicer.util.getNode(scanType)\n",
    "        scanList[-1].SetOrigin(qOffset[0])\n",
    "        #volumeNode.SetOrigin(qOffset[0])\n",
    "        scanList[-1].SetSpacing(voxel_size[0])\n",
    "        #volumeNode.SetSpacing(voxel_size[0])\n",
    "        scanList[-1].SetIJKToRASDirections(ijkMat)\n",
    "        #volumeNode.SetIJKToRASDirections(ijkMat)\n",
    "        slicer.util.updateVolumeFromArray(scanList[-1], np.swapaxes(scan3M_RAS,2,0))"
   ]
  },
  {
   "cell_type": "code",
   "execution_count": null,
   "id": "236a2980-d95c-43cc-a855-59f55b55f074",
   "metadata": {},
   "outputs": [],
   "source": [
    "100/91.4"
   ]
  },
  {
   "cell_type": "code",
   "execution_count": null,
   "id": "887673ed-772e-409a-a9d8-941c13c197d5",
   "metadata": {},
   "outputs": [],
   "source": [
    "0.188 * 60"
   ]
  },
  {
   "cell_type": "markdown",
   "id": "6cf8992a",
   "metadata": {},
   "source": [
    "## Run Segmentation"
   ]
  },
  {
   "cell_type": "code",
   "execution_count": null,
   "id": "4d10d73a",
   "metadata": {},
   "outputs": [],
   "source": [
    "octave.eval('init_ML_DICOM')"
   ]
  },
  {
   "cell_type": "code",
   "execution_count": null,
   "id": "cb817c85-4167-41c3-805a-683300d7e2c0",
   "metadata": {},
   "outputs": [],
   "source": [
    "os.getcwd()"
   ]
  },
  {
   "cell_type": "code",
   "execution_count": null,
   "id": "2d2c3c79",
   "metadata": {},
   "outputs": [],
   "source": [
    "segdir = r'/Users/elocastro/Dev/slicerr'\n",
    "octave.push('segdir',segdir)\n",
    "\n",
    "condaEnvName = r'/Users/elocastro/Dev/slicerr/condapack_mac_CT_Heart_DeepLab'\n",
    "octave.push('condaEnvName',condaEnvName)\n",
    "\n",
    "algorithm = r'CT_Pericardium_DeepLab'\n",
    "octave.push('algorithm',algorithm)"
   ]
  },
  {
   "cell_type": "code",
   "execution_count": null,
   "id": "a2262579",
   "metadata": {},
   "outputs": [],
   "source": [
    "octave.eval('planC = runSegForPlanCInCondaEnv(planC,segdir,algorithm,condaEnvName)')"
   ]
  },
  {
   "cell_type": "code",
   "execution_count": null,
   "id": "ef1efbba",
   "metadata": {},
   "outputs": [],
   "source": [
    "octave.save_planC(planC,[],'passed','slicer_0617.mat')"
   ]
  },
  {
   "cell_type": "markdown",
   "id": "3980bc49",
   "metadata": {},
   "source": [
    "Visualize PERICARDIUM structure in Slicer"
   ]
  },
  {
   "cell_type": "code",
   "execution_count": null,
   "id": "f39b89cd",
   "metadata": {},
   "outputs": [],
   "source": [
    "octave.eval('structureListC = {planC{indexS.structures}.structureName};')\n",
    "strName = 'PERICARDIUM'\n",
    "octave.push('strName',strName)\n",
    "octave.eval(\"structNum = getMatchingIndex(lower(strName),lower(structureListC),'exact');\")\n",
    "octave.eval('mask3M = getStrMask(structNum, planC);')\n",
    "mask3M = octave.pull('mask3M')"
   ]
  },
  {
   "cell_type": "code",
   "execution_count": null,
   "id": "3cab37a1",
   "metadata": {},
   "outputs": [],
   "source": [
    "##set up segmentation nodes\n",
    "segLabelString = 'PERICARDIUM'\n",
    "segmentationNode = slicer.mrmlScene.AddNewNodeByClass(\"vtkMRMLSegmentationNode\", segLabelString)\n",
    "segmentationNode.SetReferenceImageGeometryParameterFromVolumeNode(volumeNode)"
   ]
  },
  {
   "cell_type": "code",
   "execution_count": null,
   "id": "91b1f749",
   "metadata": {},
   "outputs": [],
   "source": []
  }
 ],
 "metadata": {
  "kernelspec": {
   "display_name": "Slicer 4.11",
   "language": "python",
   "name": "slicer-4.11"
  },
  "language_info": {
   "file_extension": ".py",
   "mimetype": "text/x-python",
   "name": "python",
   "version": "3.6.7"
  },
  "toc-autonumbering": false
 },
 "nbformat": 4,
 "nbformat_minor": 5
}
